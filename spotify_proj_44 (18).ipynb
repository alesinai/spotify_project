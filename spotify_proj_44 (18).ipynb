{
 "cells": [
  {
   "cell_type": "markdown",
   "id": "a50779ec",
   "metadata": {},
   "source": [
    "# Data Collection"
   ]
  },
  {
   "cell_type": "code",
   "execution_count": null,
   "id": "4c4026ff",
   "metadata": {},
   "outputs": [],
   "source": [
    "# Imports\n",
    "import spotipy\n",
    "from spotipy.oauth2 import SpotifyClientCredentials\n",
    "import pandas as pd\n",
    "import numpy as np\n",
    "from collections import defaultdict\n",
    "import matplotlib.pyplot as plt\n",
    "import seaborn as sns\n",
    "import itertools\n",
    "from sklearn.metrics import precision_recall_curve"
   ]
  },
  {
   "cell_type": "code",
   "execution_count": null,
   "id": "0a45efeb",
   "metadata": {},
   "outputs": [],
   "source": [
    "# Spotify authentication - without user\n",
    "client_credentials_manager = SpotifyClientCredentials(client_id = \"93dc1d8b704a44bbb7838960cab9e3f6\", client_secret=\"78ac04b521374940b4f1a7568ef440ac\")\n",
    "sp = spotipy.Spotify(client_credentials_manager = client_credentials_manager)"
   ]
  },
  {
   "cell_type": "code",
   "execution_count": null,
   "id": "31e620f2",
   "metadata": {},
   "outputs": [],
   "source": [
    "# Function to extract songs and artists data from a playlist thats longer than 100 songs \n",
    "# adapted from : https://stackoverflow.com/questions/39086287/spotipy-how-to-read-more-than-100-tracks-from-a-playlist \n",
    "# we added the code to extract artist data alongside songs data\n",
    "def get_playlist_tracks_more_than_100_songs(username, playlist_id):\n",
    "    results = sp.user_playlist_tracks(username,playlist_id)\n",
    "    tracks = results['items']\n",
    "    while results['next']:\n",
    "        results = sp.next(results)\n",
    "        tracks.extend(results['items'])\n",
    "    results = tracks    \n",
    "\n",
    "    playlist_tracks_id = []\n",
    "    playlist_tracks_titles = []\n",
    "    playlist_tracks_artists = []\n",
    "    playlist_tracks_first_artists = []\n",
    "    playlist_tracks_first_release_date = []\n",
    "    playlist_tracks_popularity = []\n",
    "\n",
    "    for i in range(len(results)):\n",
    "        print(i) \n",
    "        if i == 0:\n",
    "            playlist_tracks_id = results[i]['track']['id']\n",
    "            playlist_tracks_titles = results[i]['track']['name']\n",
    "            playlist_tracks_first_release_date = results[i]['track']['album']['release_date']\n",
    "            playlist_tracks_popularity = results[i]['track']['popularity']\n",
    "            \n",
    "            #artist info \n",
    "            for artist in results[i]['track']['artists']: \n",
    "                artist_uri = artist[\"uri\"]\n",
    "                artist_info = sp.artist(artist_uri)\n",
    "                artist_pop = artist_info[\"popularity\"]\n",
    "                artist_genres = artist_info[\"genres\"]\n",
    "    \n",
    "            artist_list = []\n",
    "            artist_ids = []\n",
    "            artist_df = pd.DataFrame(columns=[\"id\",\"followers\",\"genres\", \"popularity\"])\n",
    "            for artist in results[i]['track']['artists']:\n",
    "                artist_list.append(artist['name'])\n",
    "                artist_ids.append(artist['id'])\n",
    "                artist_uri = artist[\"uri\"]\n",
    "                artist_info = sp.artist(artist_uri)\n",
    "                artist_df.loc[len(artist_df.index)] = [artist['id'],artist_info[\"followers\"][\"total\"],artist_info['genres'],artist_info['popularity']] \n",
    "\n",
    "                \n",
    "            playlist_tracks_artists = [artist_list]\n",
    "            playlist_tracks_artists_ids = [artist_ids]\n",
    "            features = sp.audio_features(playlist_tracks_id)\n",
    "            features_df = pd.DataFrame(data=features, columns=features[0].keys())\n",
    "            features_df['title'] = playlist_tracks_titles\n",
    "            features_df['all_artists'] = playlist_tracks_artists\n",
    "            features_df['artist_id'] = playlist_tracks_artists_ids\n",
    "            features_df['popularity'] = playlist_tracks_popularity\n",
    "            features_df['release_date'] = playlist_tracks_first_release_date\n",
    "            features_df = features_df[['id', 'title', 'all_artists', 'artist_id', 'popularity', 'release_date',\n",
    "                                       'danceability', 'energy', 'key', 'loudness',\n",
    "                                       'acousticness', 'instrumentalness',\n",
    "                                       'liveness', 'valence', 'tempo',\n",
    "                                       'duration_ms', 'speechiness']]\n",
    "            continue\n",
    "        else:\n",
    "            try:\n",
    "                playlist_tracks_id = results[i]['track']['id']\n",
    "                playlist_tracks_titles = results[i]['track']['name']\n",
    "                playlist_tracks_first_release_date = results[i]['track']['album']['release_date']\n",
    "                playlist_tracks_popularity = results[i]['track']['popularity']\n",
    "                artist_list = []\n",
    "                artist_ids = []\n",
    "                for artist in results[i]['track']['artists']:\n",
    "                    artist_list.append(artist['name'])\n",
    "                    artist_ids.append(artist['id'])\n",
    "                    artist_uri = artist[\"uri\"]\n",
    "                    artist_info = sp.artist(artist_uri)\n",
    "                    artist_df.loc[len(artist_df.index)] = [artist['id'],artist_info[\"followers\"][\"total\"],artist_info['genres'],artist_info['popularity']]\n",
    "                    \n",
    "                playlist_tracks_artists = artist_list\n",
    "                playlist_tracks_artists_ids = artist_ids\n",
    "                features = sp.audio_features(playlist_tracks_id)\n",
    "                new_row = {'id':[playlist_tracks_id],\n",
    "               'title':[playlist_tracks_titles],\n",
    "               'all_artists':[playlist_tracks_artists],\n",
    "               'artist_id':[playlist_tracks_artists_ids] ,          \n",
    "               'popularity':[playlist_tracks_popularity],\n",
    "               'release_date':[playlist_tracks_first_release_date],\n",
    "               'danceability':[features[0]['danceability']],\n",
    "               'energy':[features[0]['energy']],\n",
    "               'key':[features[0]['key']],\n",
    "               'loudness':[features[0]['loudness']],\n",
    "               'acousticness':[features[0]['acousticness']],\n",
    "               'instrumentalness':[features[0]['instrumentalness']],\n",
    "               'liveness':[features[0]['liveness']],\n",
    "               'valence':[features[0]['valence']],\n",
    "               'tempo':[features[0]['tempo']],\n",
    "               'duration_ms':[features[0]['duration_ms']],\n",
    "               'speechiness':[features[0]['speechiness']]\n",
    "               }\n",
    "\n",
    "                dfs = [features_df, pd.DataFrame(new_row)]\n",
    "                features_df = pd.concat(dfs, ignore_index = True)\n",
    "            except:\n",
    "                continue\n",
    "                \n",
    "    return features_df, artist_df\n"
   ]
  },
  {
   "cell_type": "code",
   "execution_count": null,
   "id": "7e400399",
   "metadata": {},
   "outputs": [],
   "source": [
    "# List of playlists to extract songs from. We tried to gather more and less popular songs to obtain a relatively balanced dataset.\n",
    "playlist_list = ['37i9dQZEVXbNG2KDcFcKOF', '6yImYsbkCf434ENFO498Bq', '37i9dQZF1DX9XIFQuFvzM4', '37i9dQZF1DX5Ejj0EkURtP', '37i9dQZF1DX1lVhptIYRda', '37i9dQZF1DX10zKzsJ2jva', '37i9dQZF1DWU8quswnFt3c', '37i9dQZF1DX873GaRGUmPl', '37i9dQZF1DX9XIFQuFvzM4', '37i9dQZF1DWYV7OOaGhoH0', '37i9dQZF1DWTcqUzwhNmKv', '37i9dQZF1DXbITWG1ZJKYt', '6yPiKpy7evrwvZodByKvM9' ]"
   ]
  },
  {
   "cell_type": "code",
   "execution_count": null,
   "id": "3cfeb902",
   "metadata": {},
   "outputs": [],
   "source": [
    "# Fill the songs and artists dataframes (features_df and artist_df respectively)\n",
    "artist_df = pd.DataFrame(columns=[\"id\",\"followers\",\"genres\", \"popularity\"])\n",
    "features_df = pd.DataFrame(columns=['id', 'title', 'all_artists', 'artist_id', 'popularity', 'release_date',\n",
    "                                       'danceability', 'energy', 'key', 'loudness',\n",
    "                                       'acousticness', 'instrumentalness',\n",
    "                                       'liveness', 'valence', 'tempo',\n",
    "                                       'duration_ms', 'speechiness'])\n",
    "\n",
    "for playlist in playlist_list:\n",
    "    features_df1, artist_df1 = get_playlist_tracks_more_than_100_songs('31hsihklern6kxv5zfzmnal4pppm', playlist)\n",
    "    features_df = features_df.append(features_df1, ignore_index=True)\n",
    "    artist_df = artist_df.append(artist_df1, ignore_index=True)"
   ]
  },
  {
   "cell_type": "code",
   "execution_count": null,
   "id": "8ef9ae40",
   "metadata": {},
   "outputs": [],
   "source": [
    "#Save the dataframes loally\n",
    "artist_df.to_csv(\"C:/Users/alesi/Documents/spotify_project/artists_new.csv\", index = False)\n",
    "features_df.to_csv(\"C:/Users/alesi/Documents/spotify_project/songs_new.csv\", index = False)"
   ]
  },
  {
   "cell_type": "markdown",
   "id": "7002bfcc",
   "metadata": {},
   "source": [
    "# Data pre-processing and feature engineering"
   ]
  },
  {
   "cell_type": "code",
   "execution_count": null,
   "id": "c4263727",
   "metadata": {},
   "outputs": [],
   "source": [
    "# Load songs and artists datasets from Kaggle to join with the data we collected\n",
    "# link: https://www.kaggle.com/competitions/sliced-s01e08-KJSEks/data\n",
    "songs_df1 = pd.read_csv(\"C:/Users/alesi/Documents/spotify_project/songs_new.csv\").replace('\\'','', regex=True)\n",
    "artist_df1 = pd.read_csv(\"C:/Users/alesi/Documents/spotify_project/artists_new.csv\").replace('\\'','', regex=True) \n",
    "songs_df2 = pd.read_csv(\"C:/Users/alesi/Documents/spotify_project/train.csv\").replace('\\'','', regex=True)\n",
    "artist_df2 = pd.read_csv(\"C:/Users/alesi/Documents/spotify_project/artists.csv\").replace('\\'','', regex=True)\n",
    "songs_df2 = songs_df2.drop(songs_df2.columns[0], axis=1)\n",
    "artist_df2 = artist_df2.drop(songs_df2.columns[0], axis=1)"
   ]
  },
  {
   "cell_type": "code",
   "execution_count": null,
   "id": "2c95db0b",
   "metadata": {},
   "outputs": [],
   "source": [
    "# Delete artists name column from songs_df1 and songs_df2 (the ids are enough to identify artists)\n",
    "songs_df1.drop(columns= [\"all_artists\"], inplace = True)\n",
    "songs_df2.drop(columns= [\"artists\"], inplace = True)\n"
   ]
  },
  {
   "cell_type": "code",
   "execution_count": null,
   "id": "9a457f66",
   "metadata": {},
   "outputs": [],
   "source": [
    "# Split release date into three separate columns\n",
    "songs_df1 = songs_df1.join(songs_df1['release_date'].str.split('-', expand=True).rename(columns={0:'release_year', 1:'release_month', 2:'release_day'}))"
   ]
  },
  {
   "cell_type": "code",
   "execution_count": null,
   "id": "9d0cff04",
   "metadata": {},
   "outputs": [],
   "source": [
    "songs_df2[\"release_year\"] = songs_df2[\"release_year\"].astype('Int64')\n",
    "songs_df2[\"release_month\"] = songs_df2[\"release_month\"].astype('Int64')\n",
    "songs_df2[\"release_day\"] = songs_df2[\"release_day\"].astype('Int64')\n",
    "\n",
    "songs_df1[\"release_year\"] = songs_df1[\"release_year\"].astype('Int64')\n",
    "songs_df1[\"release_month\"] = songs_df1[\"release_month\"].astype('Int64')\n",
    "songs_df1[\"release_day\"] = songs_df1[\"release_day\"].astype('Int64')"
   ]
  },
  {
   "cell_type": "code",
   "execution_count": null,
   "id": "5d2dbcc8",
   "metadata": {},
   "outputs": [],
   "source": [
    "songs_df1.rename(columns={\"title\": \"name\", \"artist_id\": \"id_artists\"}, inplace= True)"
   ]
  },
  {
   "cell_type": "code",
   "execution_count": null,
   "id": "75a6886e",
   "metadata": {},
   "outputs": [],
   "source": [
    "songs_df1.drop(['id', 'release_date'], axis=1, inplace = True)"
   ]
  },
  {
   "cell_type": "code",
   "execution_count": null,
   "id": "438b72cd",
   "metadata": {},
   "outputs": [],
   "source": [
    "# Merge the dataset we collected with the one from Kaggle \n",
    "songs_df = pd.concat([songs_df1, songs_df2], ignore_index=True)"
   ]
  },
  {
   "cell_type": "code",
   "execution_count": null,
   "id": "d3af440c",
   "metadata": {},
   "outputs": [],
   "source": [
    "# Drop songs duplicates after merging the two dataframes\n",
    "songs_df = songs_df.drop_duplicates(subset = ['name', 'id_artists'],keep = 'last').reset_index(drop = True)"
   ]
  },
  {
   "cell_type": "code",
   "execution_count": null,
   "id": "d378fb14",
   "metadata": {},
   "outputs": [],
   "source": [
    "artist_df2.drop(['Unnamed: 0'], axis=1, inplace = True)"
   ]
  },
  {
   "cell_type": "code",
   "execution_count": null,
   "id": "81a96cf5",
   "metadata": {},
   "outputs": [],
   "source": [
    "# Merge the two artists datasets\n",
    "artist_df = pd.concat([artist_df1, artist_df2], ignore_index=True)"
   ]
  },
  {
   "cell_type": "code",
   "execution_count": null,
   "id": "75033fd8",
   "metadata": {},
   "outputs": [],
   "source": [
    "# Drop artists duplicates\n",
    "artist_df = artist_df.drop_duplicates(subset = ['id'],keep = 'last').reset_index(drop = True)"
   ]
  },
  {
   "cell_type": "code",
   "execution_count": null,
   "id": "f03ff66b",
   "metadata": {},
   "outputs": [],
   "source": [
    "# Create dictionary matching artist id with popularity and followers repsectively\n",
    "artist_popularity_dic = dict(zip(artist_df[\"id\"], artist_df[\"popularity\"]))\n",
    "artist_followers_dic = dict(zip(artist_df[\"id\"], artist_df[\"followers\"]))"
   ]
  },
  {
   "cell_type": "code",
   "execution_count": null,
   "id": "f8a63089",
   "metadata": {},
   "outputs": [],
   "source": [
    "# Create dictionary matching artist id with the genres for that specific artist\n",
    "genre_dic = defaultdict(list)\n",
    "id_genre_dic = dict()\n",
    "\n",
    "for i, row in artist_df.iterrows():\n",
    "    genre_list = str(row[\"genres\"]).replace(\"[\", \"\").replace(\"]\",\"\").replace(\"'\", \"\").split()\n",
    "    for entry in genre_list:\n",
    "        genre_dic[entry].append(row[\"popularity\"])\n",
    "    id_genre_dic[row[\"id\"]] = genre_list"
   ]
  },
  {
   "cell_type": "code",
   "execution_count": null,
   "id": "4d64099c",
   "metadata": {},
   "outputs": [],
   "source": [
    "id_genre_dic"
   ]
  },
  {
   "cell_type": "code",
   "execution_count": null,
   "id": "842f5524",
   "metadata": {},
   "outputs": [],
   "source": [
    "# Create list with the most occurring genres in the dataframes, as well as the ones associated with the highest popularity\n",
    "genre_counts = sorted([(p, len(genre_dic[p])) for p in genre_dic], key=lambda x:x[1], reverse=True)\n",
    "valid_genres = [g[0] for g in genre_counts[0:1000]]\n",
    "top_genres = [g[0] for g in genre_counts[0:200]]\n",
    "popularity_sorted = sorted([(p, np.mean(genre_dic[p])) for p in genre_dic if p in valid_genres], key=lambda x:x[1], reverse=True)\n",
    "popular_genres = [p[0] for p in popularity_sorted[0:200]]"
   ]
  },
  {
   "cell_type": "code",
   "execution_count": null,
   "id": "e48ff4e6",
   "metadata": {},
   "outputs": [],
   "source": [
    "def calc_popularity_for_artist(id_list, flag):\n",
    "    popularity_scores = list()\n",
    "    for entry in id_list:\n",
    "        if entry in artist_popularity_dic:\n",
    "            popularity_scores.append(artist_popularity_dic[entry])\n",
    "        else:\n",
    "            popularity_scores.append(0)\n",
    "    if flag == \"max\":\n",
    "        return max(popularity_scores)\n",
    "    else:\n",
    "        return np.mean(popularity_scores)"
   ]
  },
  {
   "cell_type": "code",
   "execution_count": null,
   "id": "3284842e",
   "metadata": {},
   "outputs": [],
   "source": [
    "def calc_followers_for_artist(id_list, flag):\n",
    "    follower_scores = list()\n",
    "    for entry in id_list:\n",
    "        if entry in artist_followers_dic:\n",
    "            follower_scores.append(artist_followers_dic[entry])\n",
    "        else:\n",
    "            follower_scores.append(0)\n",
    "    if flag == \"max\":\n",
    "        return max(follower_scores)\n",
    "    else:\n",
    "        return np.mean(follower_scores)"
   ]
  },
  {
   "cell_type": "code",
   "execution_count": null,
   "id": "de888621",
   "metadata": {},
   "outputs": [],
   "source": [
    "# Since many of our songs are features of collaborations, it is useful to compute the mean and max for popularity and followers of all artists involved in each song\n",
    "songs_df[\"artist_list\"] = songs_df[\"id_artists\"].map(lambda x: str(x).replace(\"[\", \"\").replace(\"]\",\"\").replace(\"'\", \"\").split())\n",
    "\n",
    "for i, row in songs_df.iterrows():\n",
    "    mod_string = row[\"artist_list\"]\n",
    "    if len(row[\"artist_list\"])>1:\n",
    "        l=[]\n",
    "        t=0\n",
    "        for element in row[\"artist_list\"]:\n",
    "            if t==len(row[\"artist_list\"])-1:\n",
    "                l.append(row[\"artist_list\"][len(row[\"artist_list\"])-1])\n",
    "                break\n",
    "            size = len(row[\"artist_list\"][t])\n",
    "            mod_string = element[:size - 1]\n",
    "            l.append(mod_string)\n",
    "            t+=1\n",
    "        songs_df.at[i,'artist_list'] = l\n",
    "\n",
    "songs_df[\"feature_max_artist_popularity\"] = songs_df[\"artist_list\"].map(lambda x: calc_popularity_for_artist(x, flag=\"max\"))\n",
    "songs_df[\"feature_mean_artist_popularity\"] = songs_df[\"artist_list\"].map(lambda x: calc_popularity_for_artist(x, flag=\"mean\"))\n"
   ]
  },
  {
   "cell_type": "code",
   "execution_count": null,
   "id": "9684799d",
   "metadata": {},
   "outputs": [],
   "source": [
    "songs_df[\"feature_max_artist_followers\"] = songs_df[\"artist_list\"].map(lambda x: calc_followers_for_artist(x, flag=\"max\"))\n",
    "songs_df[\"feature_mean_artist_followers\"] = songs_df[\"artist_list\"].map(lambda x: calc_followers_for_artist(x, flag=\"mean\"))"
   ]
  },
  {
   "cell_type": "code",
   "execution_count": null,
   "id": "db163a37",
   "metadata": {},
   "outputs": [],
   "source": [
    "def map_genres(id_list, flag):\n",
    "    genres = list()\n",
    "    for entry in id_list:\n",
    "        if entry in id_genre_dic:\n",
    "            if flag == \"valid\":\n",
    "                genres += [i for i in id_genre_dic[entry] if i in valid_genres]\n",
    "            elif flag == \"popular\":\n",
    "                genres += [i for i in id_genre_dic[entry] if i in popular_genres]\n",
    "            else:\n",
    "                genres += [i for i in id_genre_dic[entry] if i in top_genres]\n",
    "    genres = list(set(genres))\n",
    "    if len(genres) > 0:\n",
    "        return \"_\".join(sorted(genres))\n",
    "    else:\n",
    "        return \"none\""
   ]
  },
  {
   "cell_type": "code",
   "execution_count": null,
   "id": "4dc9be23",
   "metadata": {},
   "outputs": [],
   "source": [
    "# Create features containing genres for each song (genres associated to all the artists involved in the song)\n",
    "# Valid genres indicate genres applicable to the song, top genres are the ones occurring with highest frequency, popular genres are the ones associated with the most popular songs.\n",
    "songs_df[\"genre_flag_valid\"] = songs_df[\"artist_list\"].map(lambda x: map_genres(x, flag=\"valid\"))\n",
    "songs_df[\"genre_flag_top\"] = songs_df[\"artist_list\"].map(lambda x: map_genres(x, flag=\"top\"))\n",
    "songs_df[\"genre_flag_popular\"] = songs_df[\"artist_list\"].map(lambda x: map_genres(x, flag=\"popular\"))\n",
    "songs_df[\"feature_genre_valid_flag\"] = songs_df[\"genre_flag_valid\"].astype(\"category\")\n",
    "songs_df[\"feature_genre_top_flag\"] = songs_df[\"genre_flag_top\"].astype(\"category\")\n",
    "songs_df[\"feature_genre_flag_popular\"] = songs_df[\"genre_flag_popular\"].astype(\"category\")"
   ]
  },
  {
   "cell_type": "code",
   "execution_count": null,
   "id": "6461940a",
   "metadata": {},
   "outputs": [],
   "source": [
    "songs_df['id_artists'] = songs_df['id_artists'].str.strip('[]').str.split(',')"
   ]
  },
  {
   "cell_type": "code",
   "execution_count": null,
   "id": "301ec649",
   "metadata": {},
   "outputs": [],
   "source": [
    "df = pd.DataFrame(songs_df['id_artists'].values.tolist()).add_prefix('artist_')"
   ]
  },
  {
   "cell_type": "code",
   "execution_count": null,
   "id": "ac1eb5a6",
   "metadata": {},
   "outputs": [],
   "source": [
    "songs_df = pd.merge(songs_df, df['artist_0'], left_index=True, right_index=True)"
   ]
  },
  {
   "cell_type": "code",
   "execution_count": null,
   "id": "6445cf1c",
   "metadata": {},
   "outputs": [],
   "source": [
    "# Merge songs and artist dataframes\n",
    "train_df = songs_df.merge(artist_df,left_on=['artist_0'],right_on=['id'],how='inner')"
   ]
  },
  {
   "cell_type": "code",
   "execution_count": null,
   "id": "c8db94c1",
   "metadata": {},
   "outputs": [],
   "source": [
    "train_df['duration_ms'] = train_df['duration_ms']/1000/60"
   ]
  },
  {
   "cell_type": "code",
   "execution_count": null,
   "id": "23bb79e1",
   "metadata": {},
   "outputs": [],
   "source": [
    "for i in range(27):\n",
    " train_df['genres']=train_df['genres'].apply(lambda x: x[1:] if x.startswith(\",\") else x)\n",
    " train_df['genres']=train_df['genres'].apply(lambda x: x[1:] if x.startswith(\" \") else x)"
   ]
  },
  {
   "cell_type": "code",
   "execution_count": null,
   "id": "4c280361",
   "metadata": {},
   "outputs": [],
   "source": [
    "train_df.rename(columns={\"duration_ms\": \"duration\", \"popularity_x\": \"popularity_song\",\"popularity_y\":\"popularity_artist\"}, inplace=True)"
   ]
  },
  {
   "cell_type": "code",
   "execution_count": null,
   "id": "e77895ce",
   "metadata": {},
   "outputs": [],
   "source": [
    "train_df['genres'] = train_df['genres'].str.split(',')"
   ]
  },
  {
   "cell_type": "code",
   "execution_count": null,
   "id": "ecce1c4b",
   "metadata": {},
   "outputs": [],
   "source": [
    "df = pd.DataFrame(train_df['genres'].values.tolist()).add_prefix('genre_')"
   ]
  },
  {
   "cell_type": "code",
   "execution_count": null,
   "id": "afd2d2a2",
   "metadata": {},
   "outputs": [],
   "source": [
    "train_df = pd.merge(train_df, df, left_index=True, right_index=True)"
   ]
  },
  {
   "cell_type": "code",
   "execution_count": null,
   "id": "89543d06",
   "metadata": {},
   "outputs": [],
   "source": [
    "cols=[]\n",
    "for i in range(18):\n",
    "    cols.append(f\"genre_{i}\")\n",
    "train_df[\"all\"] = train_df[cols].apply(lambda x: ','.join(x.dropna()), axis=1)\n",
    "train_df['all'] = train_df['all'].str.split(',')"
   ]
  },
  {
   "cell_type": "code",
   "execution_count": null,
   "id": "d4608286",
   "metadata": {},
   "outputs": [],
   "source": [
    "# Create dummy variables for some of the top genres, indicating if a song belongs to that specific genre \n",
    "# (Note that this takes a lot to run so we saved the dataframe locally in the next cell so we would not have to re-run each time)\n",
    "genres = [\"pop\", \"r&b\", \"trap\", \"rap\", \"edm\", \"adult standards\", \"folk\", \"classical\", \"reggae\", \"jazz\", \"rock\", \"latin\", \"soul\"]\n",
    "train_df1 = train_df.copy()\n",
    "for g in genres:\n",
    "    train_df[g] = 0\n",
    "\n",
    "    for index,row in train_df1.iterrows():\n",
    "        t = False\n",
    "        nn=len(row[\"all\"])\n",
    "        end=19+nn\n",
    "        for col in train_df1.iloc[:,22:40]:\n",
    "            if g is not None and isinstance(row[col], str):\n",
    "                one = g.split()\n",
    "                two = row[col].split()\n",
    "                common = set(one).intersection(set(two))\n",
    "                unique = set(one).symmetric_difference(set(two))\n",
    "            if len(common)>0:\n",
    "                t = True\n",
    "        if t == True:\n",
    "            train_df1.loc[index, g ] = 1"
   ]
  },
  {
   "cell_type": "code",
   "execution_count": null,
   "id": "7824c922",
   "metadata": {},
   "outputs": [],
   "source": [
    "# Save the new dataframe locally \n",
    "train_df1.to_csv(\"C:/Users/alesi/Documents/spotify_project/train_df1_final1.csv\", index = False)"
   ]
  },
  {
   "cell_type": "code",
   "execution_count": null,
   "id": "2687af7a",
   "metadata": {},
   "outputs": [],
   "source": [
    "# Load the dataframe\n",
    "train_df1 = pd.read_csv(\"C:/Users/alesi/Documents/spotify_project/train_df1_final1.csv\")"
   ]
  },
  {
   "cell_type": "code",
   "execution_count": null,
   "id": "aff0b4cc",
   "metadata": {},
   "outputs": [],
   "source": [
    "train_df1[[\"pop\", \"r&b\", \"trap\", \"rap\", \"edm\", \"adult standards\", \"folk\", \"classical\", \"reggae\", \"jazz\", \"rock\", \"latin\", \"soul\", 'feature_max_artist_popularity',\n",
    "       'feature_mean_artist_popularity', 'feature_max_artist_followers',\n",
    "       'feature_mean_artist_followers']] = train_df1[[\"pop\", \"r&b\", \"trap\", \"rap\", \"edm\", \"adult standards\", \"folk\", \"classical\", \"reggae\", \"jazz\", \"rock\", \"latin\", \"soul\", 'feature_max_artist_popularity',\n",
    "       'feature_mean_artist_popularity', 'feature_max_artist_followers',\n",
    "       'feature_mean_artist_followers']].fillna(0).astype(int)"
   ]
  },
  {
   "cell_type": "code",
   "execution_count": null,
   "id": "acf6e452",
   "metadata": {},
   "outputs": [],
   "source": [
    "# Drop features that are not needed anymore for the analysis\n",
    "for i in range(18):\n",
    "    train_df1.drop(columns = [f\"genre_{i}\"], inplace = True)\n",
    "train_df1.drop (columns = [\"name\", \"id_artists\", \"id\", \"genres\", \"artist_0\", \"all\"], inplace = True)"
   ]
  },
  {
   "cell_type": "code",
   "execution_count": null,
   "id": "b16b064d",
   "metadata": {},
   "outputs": [],
   "source": [
    "train_df1.columns"
   ]
  },
  {
   "cell_type": "markdown",
   "id": "1ae63d02",
   "metadata": {},
   "source": [
    "# Exploratory data analysis and more feature engineering"
   ]
  },
  {
   "cell_type": "code",
   "execution_count": null,
   "id": "76647d66",
   "metadata": {},
   "outputs": [],
   "source": [
    "# Distribution of the features\n",
    "cols = ['popularity_song', 'danceability', 'energy', 'key', 'loudness',\n",
    "       'acousticness', 'instrumentalness', 'liveness', 'valence', 'tempo',\n",
    "       'duration', 'speechiness', 'release_year', 'release_month',\n",
    "       'release_day', 'followers', 'popularity_artist']\n",
    "for column in cols:\n",
    "    fig, axes = plt.subplots(1,1)\n",
    "    sns.histplot(train_df1[column])"
   ]
  },
  {
   "cell_type": "code",
   "execution_count": null,
   "id": "c197dcf1",
   "metadata": {},
   "outputs": [],
   "source": [
    "# Take log of right-skewed features\n",
    "train_df1[\"log_duration\"] = train_df1[\"duration\"].map(lambda x: np.log(x) if x > 0 else 0)\n",
    "train_df1[\"log_speechiness\"] = train_df1[\"speechiness\"].map(lambda x: np.log(x) if x > 0 else 0)\n",
    "train_df1[\"log_instrumentalness\"] = train_df1[\"instrumentalness\"].map(lambda x: np.log(x) if x > 0 else 0)\n",
    "train_df1[\"log_liveness\"] = train_df1[\"liveness\"].map(lambda x: np.log(x) if x > 0 else 0)"
   ]
  },
  {
   "cell_type": "code",
   "execution_count": null,
   "id": "4c03caa7",
   "metadata": {},
   "outputs": [],
   "source": [
    "#  New distributions\n",
    "cols = [\"log_duration\", \"log_speechiness\", \"log_instrumentalness\", \"log_liveness\"]\n",
    "for column in cols:\n",
    "    fig, axes = plt.subplots(1,1)\n",
    "    sns.histplot(train_df1[column])"
   ]
  },
  {
   "cell_type": "code",
   "execution_count": null,
   "id": "bc5ea7d1",
   "metadata": {},
   "outputs": [],
   "source": [
    "plt.figure(figsize = (40, 20))\n",
    "plt.subplot(331)\n",
    "sns.boxplot(train_df1['danceability'])\n",
    "plt.subplot(332)\n",
    "sns.boxplot(train_df1['duration'])\n",
    "plt.subplot(333)\n",
    "sns.boxplot(train_df1['energy'])\n",
    "plt.subplot(334)\n",
    "sns.boxplot(train_df1['log_liveness'])\n",
    "plt.subplot(335)\n",
    "sns.boxplot(train_df1['loudness'])\n",
    "plt.subplot(336)\n",
    "sns.boxplot(train_df1['log_instrumentalness'])\n",
    "plt.subplot(337)\n",
    "sns.boxplot(train_df1['acousticness'])\n",
    "plt.subplot(338)\n",
    "sns.boxplot(train_df1['valence'])\n",
    "plt.subplot(339)\n",
    "sns.boxplot(train_df1['tempo'])\n",
    "plt.subplot(341)\n",
    "sns.boxplot(train_df1['log_speechiness'])\n",
    "plt.show()"
   ]
  },
  {
   "cell_type": "code",
   "execution_count": null,
   "id": "6f63e7f9",
   "metadata": {},
   "outputs": [],
   "source": [
    "# Plot popularity of the song based on key\n",
    "sns.barplot(x = 'key', y = 'popularity_song', data = train_df1)"
   ]
  },
  {
   "cell_type": "code",
   "execution_count": null,
   "id": "2ebe3861",
   "metadata": {},
   "outputs": [],
   "source": [
    "train_df1.columns"
   ]
  },
  {
   "cell_type": "code",
   "execution_count": null,
   "id": "3726e156",
   "metadata": {},
   "outputs": [],
   "source": [
    "train_df1[\"feature_key\"] = train_df1[\"key\"].map(lambda x: f\"k{x}\")\n",
    "train_df1[\"feature_release_month\"] = train_df1[\"release_month\"].map(lambda x: f\"m{x}\")\n",
    "train_df1[\"feature_key\"] = train_df1[\"feature_key\"].astype(\"category\")\n",
    "train_df1[\"feature_release_month\"] = train_df1[\"feature_release_month\"].astype(\"category\")"
   ]
  },
  {
   "cell_type": "code",
   "execution_count": null,
   "id": "cfdd3aad",
   "metadata": {},
   "outputs": [],
   "source": [
    "# Building new features\n",
    "\n",
    "numerators = [\"danceability\", \"energy\", \"release_year\"]\n",
    "denominators = [\"acousticness\", \"log_instrumentalness\"]\n",
    "\n",
    "for numerator, denominator in itertools.product(numerators, denominators):\n",
    "    \n",
    "    h = f\"feature_{numerator}_vs_{denominator}\"\n",
    "    train_df1[h] = train_df1.apply(lambda x: x[numerator] / float(x[denominator]) if x[denominator] != 0 else 0, axis=1)\n",
    "    \n",
    "    \n",
    "    if f\"feature_{numerator}\" not in train_df1.columns.values:\n",
    "        train_df1[f\"feature_{numerator}\"] = train_df1[numerator]\n",
    " \n",
    "    \n",
    "    if f\"feature_{denominator}\" not in train_df1.columns.values:\n",
    "        train_df1[f\"feature_{denominator}\"] = train_df1[denominator]\n",
    "   \n",
    "train_df1[f\"feature_log_duration\"] = train_df1[\"log_duration\"]\n",
    "train_df1[f\"feature_tempo\"] = train_df1[\"tempo\"]\n",
    "train_df1[f\"feature_valence\"] = train_df1[\"valence\"]\n",
    "train_df1[f\"feature_log_speechiness\"] = train_df1[\"log_speechiness\"]\n",
    "train_df1[f\"feature_log_liveness\"] = train_df1[\"log_liveness\"]\n",
    "train_df1[f\"feature_followers\"] = train_df1[\"followers\"]\n"
   ]
  },
  {
   "cell_type": "code",
   "execution_count": null,
   "id": "63463b81",
   "metadata": {},
   "outputs": [],
   "source": [
    "feature_headers = [f for f in train_df1.columns.values if f.find(\"feature_\") != -1]"
   ]
  },
  {
   "cell_type": "code",
   "execution_count": null,
   "id": "e81173de",
   "metadata": {},
   "outputs": [],
   "source": [
    "train_df1[\"popularity_song\"].quantile(0.90)"
   ]
  },
  {
   "cell_type": "code",
   "execution_count": null,
   "id": "680745e5",
   "metadata": {
    "scrolled": true
   },
   "outputs": [],
   "source": [
    "train_df1.columns"
   ]
  },
  {
   "cell_type": "markdown",
   "id": "fb81caa0",
   "metadata": {},
   "source": [
    "# Models"
   ]
  },
  {
   "cell_type": "code",
   "execution_count": null,
   "id": "067909ac",
   "metadata": {},
   "outputs": [],
   "source": [
    "# Label the top 10% songs as popular for classification\n",
    "train_df1.loc[train_df1['popularity_song'] < 58, 'popularity_song'] = 0 \n",
    "train_df1.loc[train_df1['popularity_song'] >= 58, 'popularity_song'] = 1\n",
    "train_df1.loc[train_df1['popularity_song'] == 1]"
   ]
  },
  {
   "cell_type": "code",
   "execution_count": null,
   "id": "20abc181",
   "metadata": {},
   "outputs": [],
   "source": [
    "from sklearn.linear_model import LogisticRegression\n",
    "from sklearn.ensemble import RandomForestClassifier\n",
    "from sklearn.tree import DecisionTreeClassifier\n",
    "from sklearn.svm import SVC, LinearSVC\n",
    "from xgboost import XGBClassifier\n",
    "\n",
    "from sklearn.metrics import make_scorer, accuracy_score, roc_auc_score \n",
    "from sklearn.model_selection import GridSearchCV\n",
    "from sklearn.model_selection import train_test_split"
   ]
  },
  {
   "cell_type": "code",
   "execution_count": null,
   "id": "53883145",
   "metadata": {},
   "outputs": [],
   "source": [
    "features = ['feature_max_artist_popularity',\n",
    "       'feature_mean_artist_popularity', 'feature_max_artist_followers',\n",
    "       'feature_mean_artist_followers', 'feature_genre_valid_flag',\n",
    "       'feature_genre_top_flag', 'feature_genre_flag_popular', 'followers',\n",
    "       'popularity_artist', 'pop', 'r&b', 'trap', 'rap', 'edm',\n",
    "       'adult standards', 'folk', 'classical', 'reggae', 'jazz', 'rock',\n",
    "       'latin', 'soul',  'feature_key',\n",
    "       'feature_release_month', 'feature_danceability_vs_acousticness',\n",
    "       'feature_danceability', 'feature_acousticness',\n",
    "       'feature_danceability_vs_log_instrumentalness',\n",
    "       'feature_log_instrumentalness', 'feature_energy_vs_acousticness',\n",
    "       'feature_energy', 'feature_energy_vs_log_instrumentalness',\n",
    "       'feature_release_year_vs_acousticness', 'feature_release_year',\n",
    "       'feature_release_year_vs_log_instrumentalness', 'feature_log_duration',\n",
    "       'feature_tempo', 'feature_valence', 'feature_log_speechiness',\n",
    "       'feature_log_liveness', 'feature_followers']"
   ]
  },
  {
   "cell_type": "code",
   "execution_count": null,
   "id": "d5d63c30",
   "metadata": {},
   "outputs": [],
   "source": [
    "X_train = train_df1[features]\n",
    "y_train = train_df1['popularity_song']"
   ]
  },
  {
   "cell_type": "code",
   "execution_count": null,
   "id": "1cb8f84f",
   "metadata": {},
   "outputs": [],
   "source": [
    "train_df1.columns"
   ]
  },
  {
   "cell_type": "code",
   "execution_count": null,
   "id": "e8596387",
   "metadata": {},
   "outputs": [],
   "source": [
    "X_train, X_test, y_train, y_test = train_test_split(X_train, y_train, test_size = 0.2, random_state = 420)"
   ]
  },
  {
   "cell_type": "code",
   "execution_count": null,
   "id": "44ee13bd",
   "metadata": {},
   "outputs": [],
   "source": [
    "LR_Model = LogisticRegression()\n",
    "LR_Model.fit(X_train, y_train)\n",
    "LR_Predict = LR_Model.predict(X_test)\n",
    "LR_Accuracy = accuracy_score(y_test, LR_Predict)\n",
    "print(\"Accuracy: \" + str(LR_Accuracy))\n",
    "\n",
    "LR_AUC = roc_auc_score(y_test, LR_Predict) \n",
    "print(\"AUC: \" + str(LR_AUC))"
   ]
  },
  {
   "cell_type": "code",
   "execution_count": null,
   "id": "cdbf104b",
   "metadata": {},
   "outputs": [],
   "source": [
    "train_df1.columns"
   ]
  },
  {
   "cell_type": "code",
   "execution_count": null,
   "id": "e061026b",
   "metadata": {},
   "outputs": [],
   "source": [
    "RFC_Model = RandomForestClassifier()\n",
    "RFC_Model.fit(X_train, y_train)\n",
    "RFC_Predict = RFC_Model.predict(X_valid)\n",
    "RFC_Accuracy = accuracy_score(y_valid, RFC_Predict)\n",
    "print(\"Accuracy: \" + str(RFC_Accuracy))\n",
    "\n",
    "RFC_AUC = roc_auc_score(y_valid, RFC_Predict) \n",
    "print(\"AUC: \" + str(RFC_AUC))"
   ]
  },
  {
   "cell_type": "code",
   "execution_count": null,
   "id": "25d47035",
   "metadata": {},
   "outputs": [],
   "source": [
    "param_dict = {'criterion' : ['gini', 'entropy'], 'max_depth': range(1,10), 'min_samples_split': range(1,10), 'min_samples_leaf':range(1,5)}"
   ]
  },
  {
   "cell_type": "code",
   "execution_count": null,
   "id": "1c670a7f",
   "metadata": {},
   "outputs": [],
   "source": [
    "grid = GridSearchCV (DT_Model, param_grid = param_dict, cv=10, verbose=2)\n",
    "grid.fit(X_train, y_train)"
   ]
  },
  {
   "cell_type": "code",
   "execution_count": null,
   "id": "eac70f03",
   "metadata": {},
   "outputs": [],
   "source": [
    "grid.best_params_"
   ]
  },
  {
   "cell_type": "code",
   "execution_count": null,
   "id": "68fc3449",
   "metadata": {},
   "outputs": [],
   "source": [
    "DT_Model = DecisionTreeClassifier(criterion = \"entropy\", max_depth=8, min_samples_leaf=3, min_samples_split=5)\n",
    "DT_Model.fit(X_train, y_train)\n",
    "DT_Predict = DT_Model.predict(X_valid)\n",
    "DT_Accuracy = accuracy_score(y_valid, DT_Predict)\n",
    "print(\"Accuracy: \" + str(DT_Accuracy))\n",
    "\n",
    "DT_AUC = roc_auc_score(y_valid, DT_Predict) \n",
    "print(\"AUC: \" + str(DT_AUC))"
   ]
  },
  {
   "cell_type": "code",
   "execution_count": null,
   "id": "edc1b2e9",
   "metadata": {},
   "outputs": [],
   "source": [
    "XGB_Model = XGBClassifier(objective = \"binary:logistic\", n_estimators = 10, seed = 123)\n",
    "XGB_Model.fit(X_train, y_train)\n",
    "XGB_Predict = XGB_Model.predict(X_valid)\n",
    "XGB_Accuracy = accuracy_score(y_valid, XGB_Predict)\n",
    "print(\"Accuracy: \" + str(XGB_Accuracy))\n",
    "\n",
    "XGB_AUC = roc_auc_score(y_valid, XGB_Predict) \n",
    "print(\"AUC: \" + str(XGB_AUC))"
   ]
  },
  {
   "cell_type": "code",
   "execution_count": null,
   "id": "694b22e3",
   "metadata": {},
   "outputs": [],
   "source": [
    "feature_headers"
   ]
  },
  {
   "cell_type": "code",
   "execution_count": null,
   "id": "3baf2d5c",
   "metadata": {},
   "outputs": [],
   "source": [
    "catboost fit --learn-set train --test-set test --column-description train.cd  --loss-function Logloss --custom-loss=\"AUC,Precision,Recall\" -i 4 --logging-level Verbose"
   ]
  },
  {
   "cell_type": "code",
   "execution_count": null,
   "id": "1896e958",
   "metadata": {},
   "outputs": [],
   "source": [
    "features = []"
   ]
  },
  {
   "cell_type": "code",
   "execution_count": null,
   "id": "353f6362",
   "metadata": {},
   "outputs": [],
   "source": [
    "from catboost import CatBoostClassifier, Pool\n",
    "from catboost.utils import get_roc_curve\n",
    "from sklearn import svm, datasets\n",
    "from sklearn.metrics import roc_curve, auc\n",
    "from sklearn.model_selection import train_test_split\n",
    "from sklearn.preprocessing import label_binarize\n",
    "from sklearn.multiclass import OneVsRestClassifier\n",
    "from sklearn.metrics import roc_auc_score\n",
    "cat_features = [\"feature_key\",\n",
    "                \"feature_release_month\",\n",
    "                \"feature_genre_valid_flag\",\n",
    "                \"feature_genre_top_flag\",\n",
    "                \"feature_genre_flag_popular\"]\n",
    "model = CatBoostClassifier(iterations=100,\n",
    "                           learning_rate=0.1,\n",
    "                           depth=6, l2_leaf_reg= 9)\n",
    "# Fit model\n",
    "model.fit(X_train[features], y_train, cat_features)\n",
    "# Get predicted classes\n",
    "preds_class = model.predict(X_test[features])\n",
    "# Get predicted probabilities for each class\n",
    "preds_proba = model.predict_proba(X_test[features])\n",
    "# Get predicted RawFormulaVal\n",
    "preds_raw = model.predict(X_test[features], prediction_type='RawFormulaVal')\n",
    "print(model.get_best_score())\n",
    "\n",
    "print(auc)\n",
    "print(model.score(preds_class, y_test))\n",
    "fpr, tpr, _ = roc_curve(y_test, preds_proba[:,1])\n",
    "roc_auc = auc(fpr,tpr)"
   ]
  },
  {
   "cell_type": "code",
   "execution_count": null,
   "id": "776e4339",
   "metadata": {},
   "outputs": [],
   "source": [
    "cat_features = [\"feature_key\",\n",
    "                \"feature_release_month\",\n",
    "                \"feature_genre_valid_flag\",\n",
    "                \"feature_genre_top_flag\",\n",
    "                \"feature_genre_flag_popular\"]\n",
    "model = CatBoostClassifier(iterations=100,\n",
    "                           learning_rate=0.1,\n",
    "                           depth=2, cat_features = cat_features)\n",
    "grid = {'learning_rate': [0.03, 0.1],\n",
    "        'depth': [4, 6, 10],\n",
    "        'l2_leaf_reg': [1, 3, 5, 7, 9]}\n",
    "model.grid_search(grid,\n",
    "            X_train[feature_headers],\n",
    "            y=y_train,\n",
    "            cv=3)"
   ]
  },
  {
   "cell_type": "code",
   "execution_count": null,
   "id": "0568a42b",
   "metadata": {},
   "outputs": [],
   "source": [
    "print(model.get_params())"
   ]
  },
  {
   "cell_type": "code",
   "execution_count": null,
   "id": "bf3d5103",
   "metadata": {},
   "outputs": [],
   "source": [
    "import matplotlib.pyplot as plt\n",
    "plt.figure()\n",
    "lw = 2\n",
    "plt.plot(\n",
    "    fpr,\n",
    "    tpr,\n",
    "    color=\"darkorange\",\n",
    "    lw=lw,\n",
    "    label=\"ROC curve (area = %0.2f)\" % roc_auc,\n",
    ")\n",
    "plt.plot([0, 1], [0, 1], color=\"navy\", lw=lw, linestyle=\"--\")\n",
    "plt.xlim([0.0, 1.0])\n",
    "plt.ylim([0.0, 1.05])\n",
    "plt.xlabel(\"False Positive Rate\")\n",
    "plt.ylabel(\"True Positive Rate\")\n",
    "plt.title(\"Receiver operating characteristic example\")\n",
    "plt.legend(loc=\"lower right\")\n",
    "plt.show()"
   ]
  },
  {
   "cell_type": "code",
   "execution_count": null,
   "id": "93c68dd2",
   "metadata": {},
   "outputs": [],
   "source": [
    "precision, recall, thresholds = precision_recall_curve(y_test, preds_proba[:,1])\n",
    "plt.plot(\n",
    "    recall,\n",
    "    precision,\n",
    "    color=\"darkorange\",\n",
    "    \n",
    "    label=\"pr curve\",\n",
    ")\n",
    "plt.plot([0, 1], [0, 1], color=\"navy\", lw=lw, linestyle=\"--\")\n",
    "plt.xlim([0.0, 1.0])\n",
    "plt.ylim([0.0, 1.05])\n",
    "plt.xlabel(\"Recall\")\n",
    "plt.ylabel(\"Precision\")\n",
    "plt.title(\"pr curve\")\n",
    "plt.legend(loc=\"lower right\")\n",
    "plt.show()"
   ]
  },
  {
   "cell_type": "code",
   "execution_count": null,
   "id": "e97be9cb",
   "metadata": {},
   "outputs": [],
   "source": [
    "f1_scores = 2*recall*precision/(recall+precision)\n",
    "print('Best threshold: ', thresholds[np.argmax(f1_scores)])\n",
    "print('Best F1-Score: ', np.max(f1_scores))"
   ]
  },
  {
   "cell_type": "code",
   "execution_count": null,
   "id": "92fc4f75",
   "metadata": {},
   "outputs": [],
   "source": [
    "from sklearn.metrics import recall_score\n",
    "recall_score(y_test, preds_class)"
   ]
  },
  {
   "cell_type": "code",
   "execution_count": null,
   "id": "9d285bcb",
   "metadata": {},
   "outputs": [],
   "source": []
  }
 ],
 "metadata": {
  "kernelspec": {
   "display_name": "Python 3",
   "language": "python",
   "name": "python3"
  },
  "language_info": {
   "codemirror_mode": {
    "name": "ipython",
    "version": 3
   },
   "file_extension": ".py",
   "mimetype": "text/x-python",
   "name": "python",
   "nbconvert_exporter": "python",
   "pygments_lexer": "ipython3",
   "version": "3.8.5"
  }
 },
 "nbformat": 4,
 "nbformat_minor": 5
}
